{
 "cells": [
  {
   "cell_type": "markdown",
   "id": "0ebe98fd",
   "metadata": {},
   "source": [
    "# PROJECT DWDM \n",
    "REAL ESTATE-PRICE PREDICTOR"
   ]
  },
  {
   "cell_type": "markdown",
   "id": "cad3001c",
   "metadata": {},
   "source": [
    "In this project we have used Boston Housing Data set and add a Random forest algorithm to it and check the EDA(Exploratory Data Analysis) and applied a suitable Classifier,Regressor or Clusterer and calculate the accuracy of the model."
   ]
  },
  {
   "cell_type": "markdown",
   "id": "b193ed8f",
   "metadata": {},
   "source": [
    "Group: \n",
    "\n",
    "Bhavin Baldota - 202100377\n",
    "\n",
    "Nishant Musmade - 202101009\n",
    "\n",
    "Bramha Nimbalkar - 202100381\n",
    "\n",
    "Vidita Dhavane - 202100732"
   ]
  },
  {
   "cell_type": "markdown",
   "id": "35e97cd5",
   "metadata": {},
   "source": [
    "# Algorithm - Random Forest\n",
    "\n",
    "Random forest is a supervised learning algorithm used for both classification and regression tasks. It is an ensemble learning method that builds multiple decision trees and combines them to make a final prediction.\n",
    "\n",
    "Here are the key steps involved in building a random forest model:\n",
    "\n",
    "1.Randomly select a subset of the training data.\n",
    "\n",
    "2.Randomly select a subset of features to be used for each tree.\n",
    "\n",
    "3.Build a decision tree on the selected subset of data and features.\n",
    "\n",
    "4.Repeat steps 1 to 3 to create multiple decision trees.\n",
    "\n",
    "5.For classification tasks, each tree outputs a class prediction, and the final prediction is made by a majority vote. For regression tasks, each tree outputs a numerical value, and the final prediction is the average of these values.\n",
    "\n",
    "6.Evaluate the performance of the model on a validation set and tune the hyperparameters (such as the number of trees, maximum depth of the trees, etc.) to optimize the model's performance.\n",
    "\n",
    "Random forest is a popular algorithm because it can handle large datasets with accuracy."
   ]
  },
  {
   "cell_type": "markdown",
   "id": "0567a4c4",
   "metadata": {},
   "source": [
    "# Importing of data"
   ]
  },
  {
   "cell_type": "code",
   "execution_count": 1,
   "id": "81175d60",
   "metadata": {},
   "outputs": [],
   "source": [
    "import pandas as pd\n",
    "import numpy as np"
   ]
  },
  {
   "cell_type": "code",
   "execution_count": 2,
   "id": "d8be3ea1",
   "metadata": {},
   "outputs": [],
   "source": [
    "housing=pd.read_csv(\"data.csv\")"
   ]
  },
  {
   "cell_type": "code",
   "execution_count": 3,
   "id": "dd51d5cf",
   "metadata": {},
   "outputs": [
    {
     "data": {
      "text/html": [
       "<div>\n",
       "<style scoped>\n",
       "    .dataframe tbody tr th:only-of-type {\n",
       "        vertical-align: middle;\n",
       "    }\n",
       "\n",
       "    .dataframe tbody tr th {\n",
       "        vertical-align: top;\n",
       "    }\n",
       "\n",
       "    .dataframe thead th {\n",
       "        text-align: right;\n",
       "    }\n",
       "</style>\n",
       "<table border=\"1\" class=\"dataframe\">\n",
       "  <thead>\n",
       "    <tr style=\"text-align: right;\">\n",
       "      <th></th>\n",
       "      <th>CRIM</th>\n",
       "      <th>ZN</th>\n",
       "      <th>INDUS</th>\n",
       "      <th>CHAS</th>\n",
       "      <th>NOX</th>\n",
       "      <th>RM</th>\n",
       "      <th>AGE</th>\n",
       "      <th>DIS</th>\n",
       "      <th>RAD</th>\n",
       "      <th>TAX</th>\n",
       "      <th>PTRATIO</th>\n",
       "      <th>B</th>\n",
       "      <th>LSTAT</th>\n",
       "      <th>MEDV</th>\n",
       "    </tr>\n",
       "  </thead>\n",
       "  <tbody>\n",
       "    <tr>\n",
       "      <th>0</th>\n",
       "      <td>0.00632</td>\n",
       "      <td>18.0</td>\n",
       "      <td>2.31</td>\n",
       "      <td>0</td>\n",
       "      <td>0.538</td>\n",
       "      <td>6.575</td>\n",
       "      <td>65.2</td>\n",
       "      <td>4.0900</td>\n",
       "      <td>1</td>\n",
       "      <td>296</td>\n",
       "      <td>15.3</td>\n",
       "      <td>396.90</td>\n",
       "      <td>4.98</td>\n",
       "      <td>24.0</td>\n",
       "    </tr>\n",
       "    <tr>\n",
       "      <th>1</th>\n",
       "      <td>0.02731</td>\n",
       "      <td>0.0</td>\n",
       "      <td>7.07</td>\n",
       "      <td>0</td>\n",
       "      <td>0.469</td>\n",
       "      <td>6.421</td>\n",
       "      <td>78.9</td>\n",
       "      <td>4.9671</td>\n",
       "      <td>2</td>\n",
       "      <td>242</td>\n",
       "      <td>17.8</td>\n",
       "      <td>396.90</td>\n",
       "      <td>9.14</td>\n",
       "      <td>21.6</td>\n",
       "    </tr>\n",
       "    <tr>\n",
       "      <th>2</th>\n",
       "      <td>0.02729</td>\n",
       "      <td>0.0</td>\n",
       "      <td>7.07</td>\n",
       "      <td>0</td>\n",
       "      <td>0.469</td>\n",
       "      <td>7.185</td>\n",
       "      <td>61.1</td>\n",
       "      <td>4.9671</td>\n",
       "      <td>2</td>\n",
       "      <td>242</td>\n",
       "      <td>17.8</td>\n",
       "      <td>392.83</td>\n",
       "      <td>4.03</td>\n",
       "      <td>34.7</td>\n",
       "    </tr>\n",
       "    <tr>\n",
       "      <th>3</th>\n",
       "      <td>0.03237</td>\n",
       "      <td>0.0</td>\n",
       "      <td>2.18</td>\n",
       "      <td>0</td>\n",
       "      <td>0.458</td>\n",
       "      <td>6.998</td>\n",
       "      <td>45.8</td>\n",
       "      <td>6.0622</td>\n",
       "      <td>3</td>\n",
       "      <td>222</td>\n",
       "      <td>18.7</td>\n",
       "      <td>394.63</td>\n",
       "      <td>2.94</td>\n",
       "      <td>33.4</td>\n",
       "    </tr>\n",
       "    <tr>\n",
       "      <th>4</th>\n",
       "      <td>0.06905</td>\n",
       "      <td>0.0</td>\n",
       "      <td>2.18</td>\n",
       "      <td>0</td>\n",
       "      <td>0.458</td>\n",
       "      <td>7.147</td>\n",
       "      <td>54.2</td>\n",
       "      <td>6.0622</td>\n",
       "      <td>3</td>\n",
       "      <td>222</td>\n",
       "      <td>18.7</td>\n",
       "      <td>396.90</td>\n",
       "      <td>5.33</td>\n",
       "      <td>36.2</td>\n",
       "    </tr>\n",
       "  </tbody>\n",
       "</table>\n",
       "</div>"
      ],
      "text/plain": [
       "      CRIM    ZN  INDUS  CHAS    NOX     RM   AGE     DIS  RAD  TAX  PTRATIO  \\\n",
       "0  0.00632  18.0   2.31     0  0.538  6.575  65.2  4.0900    1  296     15.3   \n",
       "1  0.02731   0.0   7.07     0  0.469  6.421  78.9  4.9671    2  242     17.8   \n",
       "2  0.02729   0.0   7.07     0  0.469  7.185  61.1  4.9671    2  242     17.8   \n",
       "3  0.03237   0.0   2.18     0  0.458  6.998  45.8  6.0622    3  222     18.7   \n",
       "4  0.06905   0.0   2.18     0  0.458  7.147  54.2  6.0622    3  222     18.7   \n",
       "\n",
       "        B  LSTAT  MEDV  \n",
       "0  396.90   4.98  24.0  \n",
       "1  396.90   9.14  21.6  \n",
       "2  392.83   4.03  34.7  \n",
       "3  394.63   2.94  33.4  \n",
       "4  396.90   5.33  36.2  "
      ]
     },
     "execution_count": 3,
     "metadata": {},
     "output_type": "execute_result"
    }
   ],
   "source": [
    "housing.head()"
   ]
  },
  {
   "cell_type": "markdown",
   "id": "ec01a4f4",
   "metadata": {},
   "source": [
    "#    Features :\n",
    "    \n",
    "    1. CRIM      per capita crime rate by town\n",
    "    2. ZN        proportion of residential land zoned for lots over \n",
    "                 25,000 sq.ft.\n",
    "    3. INDUS     proportion of non-retail business acres per town\n",
    "    4. CHAS      Charles River dummy variable (= 1 if tract bounds \n",
    "                 river; 0 otherwise)\n",
    "    5. NOX       nitric oxides concentration (parts per 10 million)\n",
    "    6. RM        average number of rooms per dwelling\n",
    "    7. AGE       proportion of owner-occupied units built prior to 1940\n",
    "    8. DIS       weighted distances to five Boston employment centres\n",
    "    9. RAD       index of accessibility to radial highways\n",
    "    10. TAX      full-value property-tax rate per $10,000\n",
    "    11. PTRATIO  pupil-teacher ratio by town\n",
    "    12. B        1000(Bk - 0.63)^2 where Bk is the proportion of blacks \n",
    "                 by town\n",
    "    13. LSTAT    % lower status of the population\n",
    "    14. MEDV     Median value of owner-occupied homes in $1000's\n",
    "\n",
    "Relevant Information about data set -\n",
    "\n",
    " Concerns housing values in suburbs of Boston.\n",
    "\n",
    " Number of Instances: 506\n",
    "\n",
    " Number of Attributes: 13 continuous attributes (including \"class\"\n",
    "                         attribute \"MEDV\"), 1 binary-valued attribute."
   ]
  },
  {
   "cell_type": "markdown",
   "id": "f67d5862",
   "metadata": {},
   "source": [
    "# Summarize the Dataset"
   ]
  },
  {
   "cell_type": "code",
   "execution_count": 4,
   "id": "da61f043",
   "metadata": {},
   "outputs": [
    {
     "data": {
      "text/plain": [
       "0    471\n",
       "1     35\n",
       "Name: CHAS, dtype: int64"
      ]
     },
     "execution_count": 4,
     "metadata": {},
     "output_type": "execute_result"
    }
   ],
   "source": [
    "housing['CHAS'].value_counts()"
   ]
  },
  {
   "cell_type": "code",
   "execution_count": 5,
   "id": "8b8573ae",
   "metadata": {},
   "outputs": [
    {
     "data": {
      "text/html": [
       "<div>\n",
       "<style scoped>\n",
       "    .dataframe tbody tr th:only-of-type {\n",
       "        vertical-align: middle;\n",
       "    }\n",
       "\n",
       "    .dataframe tbody tr th {\n",
       "        vertical-align: top;\n",
       "    }\n",
       "\n",
       "    .dataframe thead th {\n",
       "        text-align: right;\n",
       "    }\n",
       "</style>\n",
       "<table border=\"1\" class=\"dataframe\">\n",
       "  <thead>\n",
       "    <tr style=\"text-align: right;\">\n",
       "      <th></th>\n",
       "      <th>CRIM</th>\n",
       "      <th>ZN</th>\n",
       "      <th>INDUS</th>\n",
       "      <th>CHAS</th>\n",
       "      <th>NOX</th>\n",
       "      <th>RM</th>\n",
       "      <th>AGE</th>\n",
       "      <th>DIS</th>\n",
       "      <th>RAD</th>\n",
       "      <th>TAX</th>\n",
       "      <th>PTRATIO</th>\n",
       "      <th>B</th>\n",
       "      <th>LSTAT</th>\n",
       "      <th>MEDV</th>\n",
       "    </tr>\n",
       "  </thead>\n",
       "  <tbody>\n",
       "    <tr>\n",
       "      <th>count</th>\n",
       "      <td>506.000000</td>\n",
       "      <td>506.000000</td>\n",
       "      <td>506.000000</td>\n",
       "      <td>506.000000</td>\n",
       "      <td>506.000000</td>\n",
       "      <td>500.000000</td>\n",
       "      <td>506.000000</td>\n",
       "      <td>506.000000</td>\n",
       "      <td>506.000000</td>\n",
       "      <td>506.000000</td>\n",
       "      <td>506.000000</td>\n",
       "      <td>506.000000</td>\n",
       "      <td>506.000000</td>\n",
       "      <td>506.000000</td>\n",
       "    </tr>\n",
       "    <tr>\n",
       "      <th>mean</th>\n",
       "      <td>3.613524</td>\n",
       "      <td>11.363636</td>\n",
       "      <td>11.136779</td>\n",
       "      <td>0.069170</td>\n",
       "      <td>0.554695</td>\n",
       "      <td>6.287772</td>\n",
       "      <td>68.574901</td>\n",
       "      <td>3.795043</td>\n",
       "      <td>9.549407</td>\n",
       "      <td>408.237154</td>\n",
       "      <td>18.455534</td>\n",
       "      <td>356.674032</td>\n",
       "      <td>12.653063</td>\n",
       "      <td>22.532806</td>\n",
       "    </tr>\n",
       "    <tr>\n",
       "      <th>std</th>\n",
       "      <td>8.601545</td>\n",
       "      <td>23.322453</td>\n",
       "      <td>6.860353</td>\n",
       "      <td>0.253994</td>\n",
       "      <td>0.115878</td>\n",
       "      <td>0.705207</td>\n",
       "      <td>28.148861</td>\n",
       "      <td>2.105710</td>\n",
       "      <td>8.707259</td>\n",
       "      <td>168.537116</td>\n",
       "      <td>2.164946</td>\n",
       "      <td>91.294864</td>\n",
       "      <td>7.141062</td>\n",
       "      <td>9.197104</td>\n",
       "    </tr>\n",
       "    <tr>\n",
       "      <th>min</th>\n",
       "      <td>0.006320</td>\n",
       "      <td>0.000000</td>\n",
       "      <td>0.460000</td>\n",
       "      <td>0.000000</td>\n",
       "      <td>0.385000</td>\n",
       "      <td>3.561000</td>\n",
       "      <td>2.900000</td>\n",
       "      <td>1.129600</td>\n",
       "      <td>1.000000</td>\n",
       "      <td>187.000000</td>\n",
       "      <td>12.600000</td>\n",
       "      <td>0.320000</td>\n",
       "      <td>1.730000</td>\n",
       "      <td>5.000000</td>\n",
       "    </tr>\n",
       "    <tr>\n",
       "      <th>25%</th>\n",
       "      <td>0.082045</td>\n",
       "      <td>0.000000</td>\n",
       "      <td>5.190000</td>\n",
       "      <td>0.000000</td>\n",
       "      <td>0.449000</td>\n",
       "      <td>5.886500</td>\n",
       "      <td>45.025000</td>\n",
       "      <td>2.100175</td>\n",
       "      <td>4.000000</td>\n",
       "      <td>279.000000</td>\n",
       "      <td>17.400000</td>\n",
       "      <td>375.377500</td>\n",
       "      <td>6.950000</td>\n",
       "      <td>17.025000</td>\n",
       "    </tr>\n",
       "    <tr>\n",
       "      <th>50%</th>\n",
       "      <td>0.256510</td>\n",
       "      <td>0.000000</td>\n",
       "      <td>9.690000</td>\n",
       "      <td>0.000000</td>\n",
       "      <td>0.538000</td>\n",
       "      <td>6.209000</td>\n",
       "      <td>77.500000</td>\n",
       "      <td>3.207450</td>\n",
       "      <td>5.000000</td>\n",
       "      <td>330.000000</td>\n",
       "      <td>19.050000</td>\n",
       "      <td>391.440000</td>\n",
       "      <td>11.360000</td>\n",
       "      <td>21.200000</td>\n",
       "    </tr>\n",
       "    <tr>\n",
       "      <th>75%</th>\n",
       "      <td>3.677083</td>\n",
       "      <td>12.500000</td>\n",
       "      <td>18.100000</td>\n",
       "      <td>0.000000</td>\n",
       "      <td>0.624000</td>\n",
       "      <td>6.629250</td>\n",
       "      <td>94.075000</td>\n",
       "      <td>5.188425</td>\n",
       "      <td>24.000000</td>\n",
       "      <td>666.000000</td>\n",
       "      <td>20.200000</td>\n",
       "      <td>396.225000</td>\n",
       "      <td>16.955000</td>\n",
       "      <td>25.000000</td>\n",
       "    </tr>\n",
       "    <tr>\n",
       "      <th>max</th>\n",
       "      <td>88.976200</td>\n",
       "      <td>100.000000</td>\n",
       "      <td>27.740000</td>\n",
       "      <td>1.000000</td>\n",
       "      <td>0.871000</td>\n",
       "      <td>8.780000</td>\n",
       "      <td>100.000000</td>\n",
       "      <td>12.126500</td>\n",
       "      <td>24.000000</td>\n",
       "      <td>711.000000</td>\n",
       "      <td>22.000000</td>\n",
       "      <td>396.900000</td>\n",
       "      <td>37.970000</td>\n",
       "      <td>50.000000</td>\n",
       "    </tr>\n",
       "  </tbody>\n",
       "</table>\n",
       "</div>"
      ],
      "text/plain": [
       "             CRIM          ZN       INDUS        CHAS         NOX          RM  \\\n",
       "count  506.000000  506.000000  506.000000  506.000000  506.000000  500.000000   \n",
       "mean     3.613524   11.363636   11.136779    0.069170    0.554695    6.287772   \n",
       "std      8.601545   23.322453    6.860353    0.253994    0.115878    0.705207   \n",
       "min      0.006320    0.000000    0.460000    0.000000    0.385000    3.561000   \n",
       "25%      0.082045    0.000000    5.190000    0.000000    0.449000    5.886500   \n",
       "50%      0.256510    0.000000    9.690000    0.000000    0.538000    6.209000   \n",
       "75%      3.677083   12.500000   18.100000    0.000000    0.624000    6.629250   \n",
       "max     88.976200  100.000000   27.740000    1.000000    0.871000    8.780000   \n",
       "\n",
       "              AGE         DIS         RAD         TAX     PTRATIO           B  \\\n",
       "count  506.000000  506.000000  506.000000  506.000000  506.000000  506.000000   \n",
       "mean    68.574901    3.795043    9.549407  408.237154   18.455534  356.674032   \n",
       "std     28.148861    2.105710    8.707259  168.537116    2.164946   91.294864   \n",
       "min      2.900000    1.129600    1.000000  187.000000   12.600000    0.320000   \n",
       "25%     45.025000    2.100175    4.000000  279.000000   17.400000  375.377500   \n",
       "50%     77.500000    3.207450    5.000000  330.000000   19.050000  391.440000   \n",
       "75%     94.075000    5.188425   24.000000  666.000000   20.200000  396.225000   \n",
       "max    100.000000   12.126500   24.000000  711.000000   22.000000  396.900000   \n",
       "\n",
       "            LSTAT        MEDV  \n",
       "count  506.000000  506.000000  \n",
       "mean    12.653063   22.532806  \n",
       "std      7.141062    9.197104  \n",
       "min      1.730000    5.000000  \n",
       "25%      6.950000   17.025000  \n",
       "50%     11.360000   21.200000  \n",
       "75%     16.955000   25.000000  \n",
       "max     37.970000   50.000000  "
      ]
     },
     "execution_count": 5,
     "metadata": {},
     "output_type": "execute_result"
    }
   ],
   "source": [
    "housing.describe()"
   ]
  },
  {
   "cell_type": "markdown",
   "id": "2f60737f",
   "metadata": {},
   "source": [
    "# Graphs with respect to features"
   ]
  },
  {
   "cell_type": "code",
   "execution_count": 6,
   "id": "7b14ea71",
   "metadata": {},
   "outputs": [],
   "source": [
    "%matplotlib inline"
   ]
  },
  {
   "cell_type": "code",
   "execution_count": 7,
   "id": "7246dbb7",
   "metadata": {},
   "outputs": [],
   "source": [
    "import matplotlib.pyplot as plt"
   ]
  },
  {
   "cell_type": "code",
   "execution_count": 8,
   "id": "51e30a95",
   "metadata": {},
   "outputs": [
    {
     "data": {
      "text/plain": [
       "array([[<AxesSubplot:title={'center':'CRIM'}>,\n",
       "        <AxesSubplot:title={'center':'ZN'}>,\n",
       "        <AxesSubplot:title={'center':'INDUS'}>,\n",
       "        <AxesSubplot:title={'center':'CHAS'}>],\n",
       "       [<AxesSubplot:title={'center':'NOX'}>,\n",
       "        <AxesSubplot:title={'center':'RM'}>,\n",
       "        <AxesSubplot:title={'center':'AGE'}>,\n",
       "        <AxesSubplot:title={'center':'DIS'}>],\n",
       "       [<AxesSubplot:title={'center':'RAD'}>,\n",
       "        <AxesSubplot:title={'center':'TAX'}>,\n",
       "        <AxesSubplot:title={'center':'PTRATIO'}>,\n",
       "        <AxesSubplot:title={'center':'B'}>],\n",
       "       [<AxesSubplot:title={'center':'LSTAT'}>,\n",
       "        <AxesSubplot:title={'center':'MEDV'}>, <AxesSubplot:>,\n",
       "        <AxesSubplot:>]], dtype=object)"
      ]
     },
     "execution_count": 8,
     "metadata": {},
     "output_type": "execute_result"
    },
    {
     "data": {
      "image/png": "[encoded data removed]",
      "text/plain": [
       "<Figure size 1440x1080 with 16 Axes>"
      ]
     },
     "metadata": {
      "needs_background": "light"
     },
     "output_type": "display_data"
    }
   ],
   "source": [
    "housing.hist(bins=50,figsize=(20,15))"
   ]
  },
  {
   "cell_type": "markdown",
   "id": "74d49f3b",
   "metadata": {},
   "source": [
    "# Train-Test Splitting"
   ]
  },
  {
   "cell_type": "code",
   "execution_count": 9,
   "id": "de57bd37",
   "metadata": {},
   "outputs": [],
   "source": [
    "from sklearn.model_selection import train_test_split"
   ]
  },
  {
   "cell_type": "code",
   "execution_count": 10,
   "id": "ac0ec69d",
   "metadata": {},
   "outputs": [],
   "source": [
    "train_set,test_set=train_test_split(housing,test_size=0.2,random_state=42) "
   ]
  },
  {
   "cell_type": "code",
   "execution_count": 11,
   "id": "b7c00d76",
   "metadata": {},
   "outputs": [
    {
     "name": "stdout",
     "output_type": "stream",
     "text": [
      "Train set : 404 Test set :  102\n"
     ]
    }
   ],
   "source": [
    "print('Train set :',len(train_set),'Test set : ',len(test_set) )"
   ]
  },
  {
   "cell_type": "markdown",
   "id": "3f0f01c4",
   "metadata": {},
   "source": [
    "Use of stratified shuffle for splitting data equally in train-test set"
   ]
  },
  {
   "cell_type": "code",
   "execution_count": 12,
   "id": "99f3b38f",
   "metadata": {},
   "outputs": [],
   "source": [
    "from sklearn.model_selection import StratifiedShuffleSplit"
   ]
  },
  {
   "cell_type": "code",
   "execution_count": 13,
   "id": "c432342c",
   "metadata": {},
   "outputs": [],
   "source": [
    "split=StratifiedShuffleSplit(n_splits=1,test_size=0.2,random_state=42)\n",
    "for train_index,test_index in split.split(housing,housing['CHAS']):\n",
    "    train_set=housing.loc[train_index]\n",
    "    test_set=housing.loc[test_index]\n",
    "    "
   ]
  },
  {
   "cell_type": "code",
   "execution_count": 14,
   "id": "b97540cf",
   "metadata": {},
   "outputs": [],
   "source": [
    "housing=train_set.copy()"
   ]
  },
  {
   "cell_type": "markdown",
   "id": "b5184c64",
   "metadata": {},
   "source": [
    "# Correlations - Insights from the data set"
   ]
  },
  {
   "cell_type": "code",
   "execution_count": 15,
   "id": "8e6598b2",
   "metadata": {},
   "outputs": [],
   "source": [
    "corr_matrix=housing.corr()"
   ]
  },
  {
   "cell_type": "code",
   "execution_count": 16,
   "id": "a536fb5f",
   "metadata": {},
   "outputs": [
    {
     "data": {
      "text/plain": [
       "MEDV       1.000000\n",
       "RM         0.680453\n",
       "B          0.361761\n",
       "ZN         0.339741\n",
       "DIS        0.240451\n",
       "CHAS       0.205066\n",
       "AGE       -0.364596\n",
       "RAD       -0.374693\n",
       "CRIM      -0.393715\n",
       "NOX       -0.422873\n",
       "TAX       -0.456657\n",
       "INDUS     -0.473516\n",
       "PTRATIO   -0.493534\n",
       "LSTAT     -0.740494\n",
       "Name: MEDV, dtype: float64"
      ]
     },
     "execution_count": 16,
     "metadata": {},
     "output_type": "execute_result"
    }
   ],
   "source": [
    "corr_matrix['MEDV'].sort_values(ascending=False)"
   ]
  },
  {
   "cell_type": "markdown",
   "id": "3ba84dad",
   "metadata": {},
   "source": [
    "Values closer to 1  are positively good correlationships and values closer to -1 are negetively good correlations where as the ones closer to zero are said to bad correlationships"
   ]
  },
  {
   "cell_type": "code",
   "execution_count": 17,
   "id": "c410cb5b",
   "metadata": {},
   "outputs": [],
   "source": [
    "from pandas.plotting import scatter_matrix"
   ]
  },
  {
   "cell_type": "code",
   "execution_count": 18,
   "id": "76f2d563",
   "metadata": {},
   "outputs": [],
   "source": [
    "attributes=['MEDV','RM','ZN','LSTAT']"
   ]
  },
  {
   "cell_type": "code",
   "execution_count": 19,
   "id": "c3ac8925",
   "metadata": {},
   "outputs": [
    {
     "data": {
      "text/plain": [
       "array([[<AxesSubplot:xlabel='MEDV', ylabel='MEDV'>,\n",
       "        <AxesSubplot:xlabel='RM', ylabel='MEDV'>,\n",
       "        <AxesSubplot:xlabel='ZN', ylabel='MEDV'>,\n",
       "        <AxesSubplot:xlabel='LSTAT', ylabel='MEDV'>],\n",
       "       [<AxesSubplot:xlabel='MEDV', ylabel='RM'>,\n",
       "        <AxesSubplot:xlabel='RM', ylabel='RM'>,\n",
       "        <AxesSubplot:xlabel='ZN', ylabel='RM'>,\n",
       "        <AxesSubplot:xlabel='LSTAT', ylabel='RM'>],\n",
       "       [<AxesSubplot:xlabel='MEDV', ylabel='ZN'>,\n",
       "        <AxesSubplot:xlabel='RM', ylabel='ZN'>,\n",
       "        <AxesSubplot:xlabel='ZN', ylabel='ZN'>,\n",
       "        <AxesSubplot:xlabel='LSTAT', ylabel='ZN'>],\n",
       "       [<AxesSubplot:xlabel='MEDV', ylabel='LSTAT'>,\n",
       "        <AxesSubplot:xlabel='RM', ylabel='LSTAT'>,\n",
       "        <AxesSubplot:xlabel='ZN', ylabel='LSTAT'>,\n",
       "        <AxesSubplot:xlabel='LSTAT', ylabel='LSTAT'>]], dtype=object)"
      ]
     },
     "execution_count": 19,
     "metadata": {},
     "output_type": "execute_result"
    },
    {
     "data": {
      "image/png": "[encoded data removed]",
      "text/plain": [
       "<Figure size 864x576 with 16 Axes>"
      ]
     },
     "metadata": {
      "needs_background": "light"
     },
     "output_type": "display_data"
    }
   ],
   "source": [
    "scatter_matrix(housing[attributes],figsize=(12,8))"
   ]
  },
  {
   "cell_type": "markdown",
   "id": "57a24f6e",
   "metadata": {},
   "source": [
    "As from the above graphs we can see that which are the good correlationships and which are the bad ones. \n",
    "\n",
    "The data points on the plot with are moving upwards with respect to y-axis tend to show a good correlation between 2 features.\n",
    "\n",
    "For example - RM depicts number of room in the data set, as the number rooms increase MEDV i.e  price of the house also increases."
   ]
  },
  {
   "cell_type": "code",
   "execution_count": 20,
   "id": "e0e7fdc4",
   "metadata": {},
   "outputs": [
    {
     "data": {
      "text/plain": [
       "<AxesSubplot:xlabel='RM', ylabel='MEDV'>"
      ]
     },
     "execution_count": 20,
     "metadata": {},
     "output_type": "execute_result"
    },
    {
     "data": {
      "image/png": "[encoded data removed]",
      "text/plain": [
       "<Figure size 432x288 with 1 Axes>"
      ]
     },
     "metadata": {
      "needs_background": "light"
     },
     "output_type": "display_data"
    }
   ],
   "source": [
    "housing.plot(kind='scatter',x='RM',y='MEDV',alpha=0.8)"
   ]
  },
  {
   "cell_type": "markdown",
   "id": "0a44fc4d",
   "metadata": {},
   "source": [
    "# Seperating labels from features in train set"
   ]
  },
  {
   "cell_type": "markdown",
   "id": "fb063f95",
   "metadata": {},
   "source": [
    "Here we copy the MEDV column in labels variable and drop it from the main data set"
   ]
  },
  {
   "cell_type": "code",
   "execution_count": 21,
   "id": "fb511bf5",
   "metadata": {},
   "outputs": [],
   "source": [
    "housing=train_set.drop('MEDV',axis=1)\n",
    "housing_labels=train_set['MEDV'].copy()"
   ]
  },
  {
   "cell_type": "markdown",
   "id": "fc3c424b",
   "metadata": {},
   "source": [
    "# Scikit Learn Design"
   ]
  },
  {
   "cell_type": "markdown",
   "id": "dbc9da6c",
   "metadata": {},
   "source": [
    "Made up of 3 objects\n",
    "\n",
    "  1.Estimator\n",
    "  \n",
    "  2.Transformer\n",
    "  \n",
    "  3.Predictor"
   ]
  },
  {
   "cell_type": "code",
   "execution_count": 22,
   "id": "4b2378d1",
   "metadata": {},
   "outputs": [],
   "source": [
    "from sklearn.pipeline import Pipeline\n",
    "from sklearn.preprocessing import StandardScaler\n",
    "from sklearn.impute import SimpleImputer\n",
    "\n",
    "my_pipeline=Pipeline([\n",
    "    ('imputer',SimpleImputer(strategy='median')),\n",
    "    ('std_scaler',StandardScaler())\n",
    "    \n",
    "])"
   ]
  },
  {
   "cell_type": "code",
   "execution_count": 23,
   "id": "9c8a6262",
   "metadata": {},
   "outputs": [],
   "source": [
    "housing_num_tr=my_pipeline.fit_transform(housing)"
   ]
  },
  {
   "cell_type": "markdown",
   "id": "c06b2096",
   "metadata": {},
   "source": [
    "This is the pipeline which prepares the data to fit  in the model.\n",
    "\n",
    "The data is tranformed according to the given steps in the pipeline\n",
    "\n",
    "- It fits the missing values in the data set using the median strategy\n",
    "\n",
    "- It scales the data which have highly deviated values\n",
    "\n",
    "   (value-mean)/std "
   ]
  },
  {
   "cell_type": "code",
   "execution_count": 24,
   "id": "870b45d7",
   "metadata": {},
   "outputs": [
    {
     "data": {
      "text/plain": [
       "(404, 13)"
      ]
     },
     "execution_count": 24,
     "metadata": {},
     "output_type": "execute_result"
    }
   ],
   "source": [
    "housing_num_tr.shape"
   ]
  },
  {
   "cell_type": "markdown",
   "id": "3eeeaf33",
   "metadata": {},
   "source": [
    "# Selecting a model"
   ]
  },
  {
   "cell_type": "code",
   "execution_count": 25,
   "id": "006203ff",
   "metadata": {},
   "outputs": [
    {
     "data": {
      "text/plain": [
       "RandomForestRegressor()"
      ]
     },
     "execution_count": 25,
     "metadata": {},
     "output_type": "execute_result"
    }
   ],
   "source": [
    "from sklearn.linear_model import LinearRegression\n",
    "from sklearn.tree import DecisionTreeRegressor\n",
    "from sklearn.ensemble import RandomForestRegressor \n",
    "# model=LinearRegression()\n",
    "# model=DecisionTreeRegressor()\n",
    "model=RandomForestRegressor()\n",
    "model.fit(housing_num_tr,housing_labels)"
   ]
  },
  {
   "cell_type": "code",
   "execution_count": 26,
   "id": "1b04864e",
   "metadata": {},
   "outputs": [],
   "source": [
    "some_data=housing.iloc[:5]"
   ]
  },
  {
   "cell_type": "code",
   "execution_count": 27,
   "id": "a57484be",
   "metadata": {},
   "outputs": [],
   "source": [
    "some_labels=housing_labels.iloc[:5]"
   ]
  },
  {
   "cell_type": "code",
   "execution_count": 28,
   "id": "d9bab915",
   "metadata": {},
   "outputs": [],
   "source": [
    "prep_data=my_pipeline.transform(some_data)"
   ]
  },
  {
   "cell_type": "code",
   "execution_count": 29,
   "id": "7dcf4445",
   "metadata": {},
   "outputs": [
    {
     "data": {
      "text/plain": [
       "array([22.519, 25.521, 16.494, 23.223, 23.512])"
      ]
     },
     "execution_count": 29,
     "metadata": {},
     "output_type": "execute_result"
    }
   ],
   "source": [
    "model.predict(prep_data)"
   ]
  },
  {
   "cell_type": "code",
   "execution_count": 30,
   "id": "a247e7dc",
   "metadata": {},
   "outputs": [
    {
     "data": {
      "text/plain": [
       "[21.9, 24.5, 16.7, 23.1, 23.0]"
      ]
     },
     "execution_count": 30,
     "metadata": {},
     "output_type": "execute_result"
    }
   ],
   "source": [
    "list(some_labels)"
   ]
  },
  {
   "cell_type": "markdown",
   "id": "5772880c",
   "metadata": {},
   "source": [
    "Here we can see that features of 5 data points is passed to the model and we can compare the predictions with the labels of the same."
   ]
  },
  {
   "cell_type": "markdown",
   "id": "27c2975e",
   "metadata": {},
   "source": [
    "# Evaluating the model"
   ]
  },
  {
   "cell_type": "markdown",
   "id": "63831610",
   "metadata": {},
   "source": [
    "We can evalute the model with mean squared method\n",
    "\n",
    "- we can check this for multiple models and compare the results \n",
    "\n",
    "- The model with the lesser mean squared error is best suited for the data set\n",
    "\n",
    "- If the result comes out to be zero, there is a high possibility of overfitting of the model"
   ]
  },
  {
   "cell_type": "code",
   "execution_count": 31,
   "id": "7b94fd7f",
   "metadata": {},
   "outputs": [],
   "source": [
    "from sklearn.metrics import mean_squared_error\n",
    "housing_predictions = model.predict(housing_num_tr)\n",
    "mse= mean_squared_error(housing_labels,housing_predictions)\n",
    "rmse=np.sqrt(mse)"
   ]
  },
  {
   "cell_type": "code",
   "execution_count": 32,
   "id": "41ad1896",
   "metadata": {},
   "outputs": [
    {
     "data": {
      "text/plain": [
       "1.239651896403754"
      ]
     },
     "execution_count": 32,
     "metadata": {},
     "output_type": "execute_result"
    }
   ],
   "source": [
    "rmse"
   ]
  },
  {
   "cell_type": "markdown",
   "id": "2d1a336c",
   "metadata": {},
   "source": [
    "# Using another evaluation technique - Cross Validation"
   ]
  },
  {
   "cell_type": "markdown",
   "id": "70a51e2d",
   "metadata": {},
   "source": [
    "We can use cross validation in case of the overfitting of the model, this helps us analyse the model in a better way.\n",
    "\n",
    "we can compare the results of cross validation to choose our model as it uses a given number of data points and checks them keeping one data point for testing and remaining for training\n",
    "\n",
    "It does this for all the given data points and gives mean or std or score to comapare the results with other models "
   ]
  },
  {
   "cell_type": "code",
   "execution_count": 33,
   "id": "eae42127",
   "metadata": {},
   "outputs": [],
   "source": [
    "from sklearn.model_selection import cross_val_score\n",
    "score=cross_val_score(model,housing_num_tr,housing_labels,scoring='neg_mean_squared_error',cv=10)\n",
    "rmse_score=np.sqrt(-score)"
   ]
  },
  {
   "cell_type": "code",
   "execution_count": 34,
   "id": "0b483092",
   "metadata": {},
   "outputs": [],
   "source": [
    "def print_score(score):\n",
    "    print('Score : ',score)\n",
    "    print('Mean : ',score.mean())\n",
    "    print('STD : ',score.std())\n",
    "    "
   ]
  },
  {
   "cell_type": "code",
   "execution_count": 35,
   "id": "7de14190",
   "metadata": {},
   "outputs": [
    {
     "name": "stdout",
     "output_type": "stream",
     "text": [
      "Score :  [2.77117415 2.92494906 4.40820196 2.59805907 3.45531305 2.64171516\n",
      " 4.8545907  3.33769532 3.21991799 3.20633414]\n",
      "Mean :  3.3417950591856576\n",
      "STD :  0.7081316991760312\n"
     ]
    }
   ],
   "source": [
    "print_score(rmse_score)"
   ]
  },
  {
   "cell_type": "markdown",
   "id": "0698a55b",
   "metadata": {},
   "source": [
    "These are the reults of the other 2 models we checked before Random forest regressor\n",
    "\n",
    "Decision Tree Regressor:\n",
    "\n",
    "Mean :  4.2619670976946455\n",
    "\n",
    "STD :  0.7787035001174148\n",
    "\n",
    "\n",
    "Linear Regression :\n",
    "\n",
    "Mean :  5.027498756469269\n",
    "\n",
    "STD :  1.0531104488653014"
   ]
  },
  {
   "cell_type": "markdown",
   "id": "194252a9",
   "metadata": {},
   "source": [
    "# Saving Model "
   ]
  },
  {
   "cell_type": "code",
   "execution_count": 36,
   "id": "743ac328",
   "metadata": {},
   "outputs": [
    {
     "data": {
      "text/plain": [
       "['ML.joblib']"
      ]
     },
     "execution_count": 36,
     "metadata": {},
     "output_type": "execute_result"
    }
   ],
   "source": [
    "from joblib import dump,load\n",
    "dump(model,'ML.joblib')"
   ]
  },
  {
   "cell_type": "markdown",
   "id": "68921ce6",
   "metadata": {},
   "source": [
    "# Testing Model"
   ]
  },
  {
   "cell_type": "code",
   "execution_count": 37,
   "id": "6609aab9",
   "metadata": {},
   "outputs": [],
   "source": [
    "x_test=test_set.drop('MEDV',axis=1)\n",
    "y_test=test_set['MEDV'].copy()\n",
    "x_test_prep=my_pipeline.transform(x_test)\n",
    "test_predictions=model.predict(x_test_prep)\n",
    "test_mse=mean_squared_error(y_test,test_predictions)\n",
    "rmse=np.sqrt(test_mse)"
   ]
  },
  {
   "cell_type": "code",
   "execution_count": 38,
   "id": "e0b4dd84",
   "metadata": {},
   "outputs": [
    {
     "data": {
      "text/plain": [
       "2.9090782786601928"
      ]
     },
     "execution_count": 38,
     "metadata": {},
     "output_type": "execute_result"
    }
   ],
   "source": [
    "rmse"
   ]
  },
  {
   "cell_type": "code",
   "execution_count": 39,
   "id": "1a0466ef",
   "metadata": {},
   "outputs": [
    {
     "data": {
      "text/plain": [
       "array([-0.43942006,  3.12628155, -1.12165014, -0.27288841, -1.42262747,\n",
       "       -0.24604124, -1.31238772,  2.61111401, -1.0016859 , -0.5778192 ,\n",
       "       -0.97491834,  0.41164221, -0.86091034])"
      ]
     },
     "execution_count": 39,
     "metadata": {},
     "output_type": "execute_result"
    }
   ],
   "source": [
    "prep_data[0]"
   ]
  },
  {
   "cell_type": "markdown",
   "id": "18588faa",
   "metadata": {},
   "source": [
    "# Using the model"
   ]
  },
  {
   "cell_type": "code",
   "execution_count": 40,
   "id": "a19b4be0",
   "metadata": {},
   "outputs": [
    {
     "data": {
      "text/plain": [
       "array([22.519])"
      ]
     },
     "execution_count": 40,
     "metadata": {},
     "output_type": "execute_result"
    }
   ],
   "source": [
    "from joblib import dump,load\n",
    "model=load('ML.joblib')\n",
    "features=np.array([-0.43942006,  3.12628155, -1.12165014, -0.27288841, -1.42262747,\n",
    "       -0.24604124, -1.31238772,  2.61111401, -1.0016859 , -0.5778192 ,\n",
    "       -0.97491834,  0.41164221, -0.86091034])\n",
    "model.predict([features])"
   ]
  }
 ],
 "metadata": {
  "kernelspec": {
   "display_name": "Python 3 (ipykernel)",
   "language": "python",
   "name": "python3"
  },
  "language_info": {
   "codemirror_mode": {
    "name": "ipython",
    "version": 3
   },
   "file_extension": ".py",
   "mimetype": "text/x-python",
   "name": "python",
   "nbconvert_exporter": "python",
   "pygments_lexer": "ipython3",
   "version": "3.10.9"
  }
 },
 "nbformat": 4,
 "nbformat_minor": 5
}
